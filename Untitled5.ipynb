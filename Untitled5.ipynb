{
 "cells": [
  {
   "cell_type": "markdown",
   "metadata": {},
   "source": [
    "# ans 1"
   ]
  },
  {
   "cell_type": "code",
   "execution_count": 13,
   "metadata": {},
   "outputs": [
    {
     "name": "stdout",
     "output_type": "stream",
     "text": [
      "enter the limit:3\n",
      "Enter number 4\n",
      "Enter number 5\n",
      "Enter number 6\n",
      "list= [4, 5, 6]\n",
      "Sum of elements in given list is : 15\n"
     ]
    }
   ],
   "source": [
    "lst = []\n",
    "def sumfu():\n",
    "    \n",
    "    lst = []\n",
    "    num = int(input('enter the limit:'))\n",
    "    for n in range(num):\n",
    "        numbers = int(input('Enter number '))\n",
    "        lst.append(numbers)\n",
    "    print(\"list=\",lst)    \n",
    "    print(\"Sum of elements in given list is :\", sum(lst))\n",
    "    \n",
    "sumfu()    \n",
    "        \n",
    "        \n",
    "      \n",
    "        \n",
    "        "
   ]
  },
  {
   "cell_type": "code",
   "execution_count": 20,
   "metadata": {},
   "outputs": [
    {
     "name": "stdout",
     "output_type": "stream",
     "text": [
      "enter a string:neen\n",
      "neen  is palindrom. \n"
     ]
    }
   ],
   "source": [
    "def pali():\n",
    "    str=input(\"enter a string:\")\n",
    "    rev=str[::-1]\n",
    "    if str==rev:\n",
    "        print(str,\" is palindrom. \")\n",
    "    else:\n",
    "        print(str,\"not palindrom.\")\n",
    "pali()        \n",
    "        "
   ]
  },
  {
   "cell_type": "code",
   "execution_count": 6,
   "metadata": {},
   "outputs": [
    {
     "name": "stdout",
     "output_type": "stream",
     "text": [
      "How many terms? 4\n",
      "Fibonacci sequence:\n",
      "0\n",
      "1\n",
      "1\n",
      "2\n"
     ]
    }
   ],
   "source": [
    "def fibo(n):  \n",
    "    if n <= 1:  \n",
    "        return n  \n",
    "    else:  \n",
    "        return(fibo(n-1) + fibo(n-2))    \n",
    "nterms = int(input(\"How many terms? \"))   \n",
    "if nterms <= 0:  \n",
    "    print(\"Plese enter a positive integer\")  \n",
    "else:  \n",
    "    print(\"Fibonacci sequence:\")  \n",
    "    for i in range(nterms):  \n",
    "        print(fibo(i))        "
   ]
  },
  {
   "cell_type": "code",
   "execution_count": 10,
   "metadata": {},
   "outputs": [
    {
     "name": "stdout",
     "output_type": "stream",
     "text": [
      "Enter any Number  :5\n",
      "5  *  1  =  5\n",
      "5  *  2  =  10\n",
      "5  *  3  =  15\n",
      "5  *  4  =  20\n",
      "5  *  5  =  25\n",
      "5  *  6  =  30\n",
      "5  *  7  =  35\n",
      "5  *  8  =  40\n",
      "5  *  9  =  45\n",
      "5  *  10  =  50\n"
     ]
    },
    {
     "data": {
      "text/plain": [
       "1"
      ]
     },
     "execution_count": 10,
     "metadata": {},
     "output_type": "execute_result"
    }
   ],
   "source": [
    "def multiplication(num,count):\n",
    "    if( count < 11):\n",
    "        print(num,\" * \",count,\" = \",num * count)\n",
    "        return multiplication(num,count + 1)\n",
    "    else:\n",
    "        return 1\n",
    "n = int(input(\"Enter any Number  :\"));\n",
    "multiplication(n,1)"
   ]
  },
  {
   "cell_type": "code",
   "execution_count": 17,
   "metadata": {},
   "outputs": [
    {
     "ename": "SyntaxError",
     "evalue": "invalid syntax (<ipython-input-17-2fccf740f4f9>, line 10)",
     "output_type": "error",
     "traceback": [
      "\u001b[1;36m  File \u001b[1;32m\"<ipython-input-17-2fccf740f4f9>\"\u001b[1;36m, line \u001b[1;32m10\u001b[0m\n\u001b[1;33m    elif (str[i] >= 'a' and str[i] <= 'z'):\u001b[0m\n\u001b[1;37m       ^\u001b[0m\n\u001b[1;31mSyntaxError\u001b[0m\u001b[1;31m:\u001b[0m invalid syntax\n"
     ]
    }
   ],
   "source": [
    "def cv():\n",
    "    vcount = 0  \n",
    "    ccount = 0  \n",
    "    str = \"This is a really simple sentence\"  \n",
    "\n",
    "    str = str.lower();  \n",
    "    for i in range(0,len(str)):  \n",
    "        if str[i] in ('a',\"e\",\"i\",\"o\",\"u\"):  \n",
    "            vcount = vcount + 1 \n",
    "    elif (str[i] >= 'a' and str[i] <= 'z'):  \n",
    "        ccount = ccount + 1  \n",
    "           \n",
    "print(\"Total number of vowel and consonant are\" );  \n",
    "print(vcount);  \n",
    "print(ccount);  "
   ]
  },
  {
   "cell_type": "code",
   "execution_count": 18,
   "metadata": {},
   "outputs": [
    {
     "name": "stdout",
     "output_type": "stream",
     "text": [
      "enter a string:malayalam\n",
      "MALAYALAM\n"
     ]
    }
   ],
   "source": [
    "def upper():\n",
    "    str=input(\"enter a string:\")\n",
    "    str.lower()\n",
    "    print(str.upper())\n",
    "upper()    "
   ]
  },
  {
   "cell_type": "code",
   "execution_count": 19,
   "metadata": {},
   "outputs": [
    {
     "name": "stdout",
     "output_type": "stream",
     "text": [
      "Original list:\n",
      "[12, 0, None, 23, None, -55, 234, 89, None, 0, 6, -12]\n",
      "\n",
      "Remove None value from the said list:\n",
      "[12, 0, 23, -55, 234, 89, 0, 6, -12]\n"
     ]
    }
   ],
   "source": [
    "def none(nums):\n",
    "    result = filter(lambda v: v is not None, nums)\n",
    "    return list(result)\n",
    "nums = [12, 0, None, 23, None, -55, 234, 89, None, 0, 6, -12]\n",
    "print(\"Original list:\")\n",
    "print(nums)\n",
    "print(\"\\nRemove None value from the said list:\")\n",
    "print(none(nums))"
   ]
  },
  {
   "cell_type": "code",
   "execution_count": 26,
   "metadata": {},
   "outputs": [
    {
     "ename": "SyntaxError",
     "evalue": "invalid syntax (<ipython-input-26-a584370ce251>, line 26)",
     "output_type": "error",
     "traceback": [
      "\u001b[1;36m  File \u001b[1;32m\"<ipython-input-26-a584370ce251>\"\u001b[1;36m, line \u001b[1;32m26\u001b[0m\n\u001b[1;33m    The output is:\u001b[0m\n\u001b[1;37m             ^\u001b[0m\n\u001b[1;31mSyntaxError\u001b[0m\u001b[1;31m:\u001b[0m invalid syntax\n"
     ]
    }
   ],
   "source": [
    "class Rectangle:\n",
    "        def __init__(self, length , width):\n",
    "            self.length = length\n",
    "            self.width = width\n",
    "        def Perimeter(self):\n",
    "            return 2*(self.length + self.width)\n",
    "        def Area(self):\n",
    "            return self.length*self.width   \n",
    "        def display(self):\n",
    "            print(\"The length of rectangle is: \", self.length)\n",
    "            print(\"The width of rectangle is: \", self.width)\n",
    "            print(\"The perimeter of rectangle is: \", self.Perimeter())\n",
    "            print(\"The area of rectangle is: \", self.Area())\n",
    "class Parallelepipede(Rectangle):\n",
    "    def __init__(self, length, width , height):\n",
    "        Rectangle.__init__(self, length, width)\n",
    "        self.height = height\n",
    "    def volume(self):\n",
    "        return self.length*self.width*self.height\n",
    "        \n",
    "myRectangle = Rectangle(7 , 5)\n",
    "myRectangle.display()\n",
    "print(\"--------------------------------  \")\n",
    "myParallelepipede = Parallelepipede(7 , 5 , 2)\n",
    "print(\"the volume of myParallelepipede is: \" , myParallelepipede.volume())\n",
    "The output is:"
   ]
  },
  {
   "cell_type": "code",
   "execution_count": 24,
   "metadata": {},
   "outputs": [
    {
     "name": "stdout",
     "output_type": "stream",
     "text": [
      "Account Number :  2178514584\n",
      "Account Name :  Albert\n",
      "Account Balance :  2600  $\n"
     ]
    }
   ],
   "source": [
    "class BankAccount:\n",
    "    def __init__(self,accountNumber, name, balance):\n",
    "        self.accountNumber = accountNumber\n",
    "        self.name = name\n",
    "        self.balance = balance\n",
    "    def Deposit(self , d ):\n",
    "        self.balance = self.balance + d\n",
    "    def Withdrawal(self , w):\n",
    "        if(self.balance < w):\n",
    "            print(\"impossible operation! Insufficient balance !\")\n",
    "        else:\n",
    "            self.balance = self.balance - w\n",
    "    def bankFees(self):\n",
    "        self.balance = (95/100)*self.balance\n",
    "    def display(self):\n",
    "        print(\"Account Number : \" , self.accountNumber)\n",
    "        print(\"Account Name : \" , self.name)\n",
    "        print(\"Account Balance : \" , self.balance , \" $\")\n",
    "        \n",
    "newAccount = BankAccount(2178514584, \"Albert\" , 2700)\n",
    "newAccount.Withdrawal(300)\n",
    "newAccount.Deposit(200)\n",
    "newAccount.display()"
   ]
  },
  {
   "cell_type": "code",
   "execution_count": null,
   "metadata": {},
   "outputs": [],
   "source": []
  }
 ],
 "metadata": {
  "kernelspec": {
   "display_name": "Python 3",
   "language": "python",
   "name": "python3"
  },
  "language_info": {
   "codemirror_mode": {
    "name": "ipython",
    "version": 3
   },
   "file_extension": ".py",
   "mimetype": "text/x-python",
   "name": "python",
   "nbconvert_exporter": "python",
   "pygments_lexer": "ipython3",
   "version": "3.6.5"
  }
 },
 "nbformat": 4,
 "nbformat_minor": 2
}
